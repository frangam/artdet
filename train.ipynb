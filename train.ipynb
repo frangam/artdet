{
  "cells": [
    {
      "cell_type": "code",
      "execution_count": null,
      "metadata": {
        "colab": {
          "base_uri": "https://localhost:8080/"
        },
        "id": "Gw-JmxBSo6Se",
        "outputId": "29a28799-2343-4828-c638-50323cd2a242"
      },
      "outputs": [
        {
          "name": "stdout",
          "output_type": "stream",
          "text": [
            "Mounted at /content/drive\n"
          ]
        }
      ],
      "source": [
        "from google.colab import drive\n",
        "drive.mount('/content/drive')"
      ]
    },
    {
      "cell_type": "code",
      "execution_count": null,
      "metadata": {
        "colab": {
          "base_uri": "https://localhost:8080/"
        },
        "id": "iqtdFNkeotlb",
        "outputId": "a2a25968-1d9d-499d-e16e-0bf1ad64c275"
      },
      "outputs": [
        {
          "name": "stdout",
          "output_type": "stream",
          "text": [
            "Looking in indexes: https://pypi.org/simple, https://us-python.pkg.dev/colab-wheels/public/simple/\n",
            "Requirement already satisfied: pycocotools in /usr/local/lib/python3.8/dist-packages (2.0.6)\n",
            "Requirement already satisfied: matplotlib>=2.1.0 in /usr/local/lib/python3.8/dist-packages (from pycocotools) (3.2.2)\n",
            "Requirement already satisfied: numpy in /usr/local/lib/python3.8/dist-packages (from pycocotools) (1.21.6)\n",
            "Requirement already satisfied: python-dateutil>=2.1 in /usr/local/lib/python3.8/dist-packages (from matplotlib>=2.1.0->pycocotools) (2.8.2)\n",
            "Requirement already satisfied: cycler>=0.10 in /usr/local/lib/python3.8/dist-packages (from matplotlib>=2.1.0->pycocotools) (0.11.0)\n",
            "Requirement already satisfied: kiwisolver>=1.0.1 in /usr/local/lib/python3.8/dist-packages (from matplotlib>=2.1.0->pycocotools) (1.4.4)\n",
            "Requirement already satisfied: pyparsing!=2.0.4,!=2.1.2,!=2.1.6,>=2.0.1 in /usr/local/lib/python3.8/dist-packages (from matplotlib>=2.1.0->pycocotools) (3.0.9)\n",
            "Requirement already satisfied: six>=1.5 in /usr/local/lib/python3.8/dist-packages (from python-dateutil>=2.1->matplotlib>=2.1.0->pycocotools) (1.15.0)\n"
          ]
        }
      ],
      "source": [
        "!pip install tensorflow-gpu==1.15.0\n",
        "!pip install keras==2.2.5\n",
        "!pip install h5py==2.10.0 --force-reinstall\n",
        "!pip install mrcnn\n",
        "!pip install  pycocotools"
      ]
    },
    {
      "cell_type": "code",
      "execution_count": null,
      "metadata": {
        "colab": {
          "base_uri": "https://localhost:8080/"
        },
        "id": "YuN3INiwo5ss",
        "outputId": "222927e6-1a48-4451-8499-b763714a4aca"
      },
      "outputs": [
        {
          "name": "stdout",
          "output_type": "stream",
          "text": [
            "/content/drive/MyDrive/IA_Restauración\n",
            "Cloning into 'Mask_RCNN'...\n",
            "remote: Enumerating objects: 983, done.\u001b[K\n",
            "remote: Total 983 (delta 0), reused 0 (delta 0), pack-reused 983\u001b[K\n",
            "Receiving objects: 100% (983/983), 149.27 MiB | 19.05 MiB/s, done.\n",
            "Resolving deltas: 100% (572/572), done.\n",
            "Updating files: 100% (76/76), done.\n"
          ]
        }
      ],
      "source": [
        "%cd /content/drive/MyDrive/IA_Restauración\n",
        "#!git clone https://github.com/matterport/Mask_RCNN.git\n",
        "!git clone https://github.com/leekunhee/Mask_RCNN\n",
        "#!git clone https://github.com/Cpruce/Mask_RCNN.git\n",
        "#!git clone https://github.com/akTwelve/Mask_RCNN.git\n",
        "%cd Mask_RCNN/\n",
        "!python setup.py install\n",
        "!wget https://github.com/matterport/Mask_RCNN/releases/download/v2.0/mask_rcnn_coco.h5\n",
        "\n",
        "#%cd ..\n",
        "#!git clone https://github.com/haochen23/fine-tune-MaskRcnn.git\n",
        "#%cd fine-tune-MaskRcnn/"
      ]
    },
    {
      "cell_type": "code",
      "execution_count": null,
      "metadata": {
        "colab": {
          "base_uri": "https://localhost:8080/"
        },
        "id": "3XP1cGOto9KO",
        "outputId": "d0342598-3c15-4c54-98aa-844a6c5c2c43"
      },
      "outputs": [
        {
          "name": "stdout",
          "output_type": "stream",
          "text": [
            "/content/drive/MyDrive/IA_Restauración\n",
            "2023-02-22 16:48:21.225176: I tensorflow/core/platform/cpu_feature_guard.cc:193] This TensorFlow binary is optimized with oneAPI Deep Neural Network Library (oneDNN) to use the following CPU instructions in performance-critical operations:  AVX2 AVX512F FMA\n",
            "To enable them in other operations, rebuild TensorFlow with the appropriate compiler flags.\n",
            "2023-02-22 16:48:22.104097: W tensorflow/compiler/xla/stream_executor/platform/default/dso_loader.cc:64] Could not load dynamic library 'libnvinfer.so.7'; dlerror: libnvinfer.so.7: cannot open shared object file: No such file or directory; LD_LIBRARY_PATH: /usr/local/lib/python3.8/dist-packages/cv2/../../lib64:/usr/lib64-nvidia\n",
            "2023-02-22 16:48:22.104245: W tensorflow/compiler/xla/stream_executor/platform/default/dso_loader.cc:64] Could not load dynamic library 'libnvinfer_plugin.so.7'; dlerror: libnvinfer_plugin.so.7: cannot open shared object file: No such file or directory; LD_LIBRARY_PATH: /usr/local/lib/python3.8/dist-packages/cv2/../../lib64:/usr/lib64-nvidia\n",
            "2023-02-22 16:48:22.104267: W tensorflow/compiler/tf2tensorrt/utils/py_utils.cc:38] TF-TRT Warning: Cannot dlopen some TensorRT libraries. If you would like to use Nvidia GPU with TensorRT, please make sure the missing libraries mentioned above are installed properly.\n",
            "Weights:  coco\n",
            "Dataset:  /content/drive/MyDrive/IA_Restauración/prueba_imagenes\n",
            "Logs:  /content/drive/MyDrive/logs\n",
            "\n",
            "Configurations:\n",
            "BACKBONE                       resnet101\n",
            "BACKBONE_STRIDES               [4, 8, 16, 32, 64]\n",
            "BATCH_SIZE                     1\n",
            "BBOX_STD_DEV                   [0.1 0.1 0.2 0.2]\n",
            "COMPUTE_BACKBONE_SHAPE         None\n",
            "DETECTION_MAX_INSTANCES        100\n",
            "DETECTION_MIN_CONFIDENCE       0.9\n",
            "DETECTION_NMS_THRESHOLD        0.3\n",
            "FPN_CLASSIF_FC_LAYERS_SIZE     1024\n",
            "GPU_COUNT                      1\n",
            "GRADIENT_CLIP_NORM             5.0\n",
            "IMAGES_PER_GPU                 1\n",
            "IMAGE_CHANNEL_COUNT            3\n",
            "IMAGE_MAX_DIM                  1024\n",
            "IMAGE_META_SIZE                14\n",
            "IMAGE_MIN_DIM                  800\n",
            "IMAGE_MIN_SCALE                0\n",
            "IMAGE_RESIZE_MODE              square\n",
            "IMAGE_SHAPE                    [1024 1024    3]\n",
            "LEARNING_MOMENTUM              0.9\n",
            "LEARNING_RATE                  0.001\n",
            "LOSS_WEIGHTS                   {'rpn_class_loss': 1.0, 'rpn_bbox_loss': 1.0, 'mrcnn_class_loss': 1.0, 'mrcnn_bbox_loss': 1.0, 'mrcnn_mask_loss': 1.0}\n",
            "MASK_POOL_SIZE                 14\n",
            "MASK_SHAPE                     [28, 28]\n",
            "MAX_GT_INSTANCES               100\n",
            "MEAN_PIXEL                     [123.7 116.8 103.9]\n",
            "MINI_MASK_SHAPE                (56, 56)\n",
            "NAME                           daño\n",
            "NUM_CLASSES                    2\n",
            "POOL_SIZE                      7\n",
            "POST_NMS_ROIS_INFERENCE        1000\n",
            "POST_NMS_ROIS_TRAINING         2000\n",
            "PRE_NMS_LIMIT                  6000\n",
            "ROI_POSITIVE_RATIO             0.33\n",
            "RPN_ANCHOR_RATIOS              [0.5, 1, 2]\n",
            "RPN_ANCHOR_SCALES              (32, 64, 128, 256, 512)\n",
            "RPN_ANCHOR_STRIDE              1\n",
            "RPN_BBOX_STD_DEV               [0.1 0.1 0.2 0.2]\n",
            "RPN_NMS_THRESHOLD              0.7\n",
            "RPN_TRAIN_ANCHORS_PER_IMAGE    256\n",
            "STEPS_PER_EPOCH                100\n",
            "TOP_DOWN_PYRAMID_SIZE          256\n",
            "TRAIN_BN                       False\n",
            "TRAIN_ROIS_PER_IMAGE           200\n",
            "USE_MINI_MASK                  True\n",
            "USE_RPN_ROIS                   True\n",
            "VALIDATION_STEPS               50\n",
            "WEIGHT_DECAY                   0.0001\n",
            "\n",
            "\n",
            "WARNING:tensorflow:From /usr/local/lib/python3.8/dist-packages/tensorflow/python/autograph/pyct/static_analysis/liveness.py:83: Analyzer.lamba_check (from tensorflow.python.autograph.pyct.static_analysis.liveness) is deprecated and will be removed after 2023-09-23.\n",
            "Instructions for updating:\n",
            "Lambda fuctions will be no more assumed to be used in the statement where they are used, or at least in the same block. https://github.com/tensorflow/tensorflow/issues/56089\n",
            "WARNING:tensorflow:From /usr/local/lib/python3.8/dist-packages/tensorflow/python/autograph/pyct/static_analysis/liveness.py:83: Analyzer.lamba_check (from tensorflow.python.autograph.pyct.static_analysis.liveness) is deprecated and will be removed after 2023-09-23.\n",
            "Instructions for updating:\n",
            "Lambda fuctions will be no more assumed to be used in the statement where they are used, or at least in the same block. https://github.com/tensorflow/tensorflow/issues/56089\n",
            "Loading weights  /content/drive/MyDrive/IA_Restauración/mask_rcnn_coco.h5\n",
            "2023-02-22 16:48:39.033588: W tensorflow/core/common_runtime/gpu/gpu_bfc_allocator.cc:42] Overriding orig_value setting because the TF_FORCE_GPU_ALLOW_GROWTH environment variable is set. Original config value was 0.\n",
            "2023-02-22 16:48:39.373576: W tensorflow/core/common_runtime/type_inference.cc:339] Type inference failed. This indicates an invalid graph that escaped type checking. Error message: INVALID_ARGUMENT: expected compatible input types, but input 1:\n",
            "type_id: TFT_OPTIONAL\n",
            "args {\n",
            "  type_id: TFT_PRODUCT\n",
            "  args {\n",
            "    type_id: TFT_TENSOR\n",
            "    args {\n",
            "      type_id: TFT_FLOAT\n",
            "    }\n",
            "  }\n",
            "}\n",
            " is neither a subtype nor a supertype of the combined inputs preceding it:\n",
            "type_id: TFT_OPTIONAL\n",
            "args {\n",
            "  type_id: TFT_PRODUCT\n",
            "  args {\n",
            "    type_id: TFT_TENSOR\n",
            "    args {\n",
            "      type_id: TFT_INT32\n",
            "    }\n",
            "  }\n",
            "}\n",
            "\n",
            "\twhile inferring type of node 'proposal_targets/cond/output/_16'\n",
            "Training network heads\n",
            "\n",
            "Starting at epoch 0. LR=0.001\n",
            "\n",
            "Checkpoint Path: /content/drive/MyDrive/logs/daño20230222T1648/mask_rcnn_daño_{epoch:04d}.h5\n",
            "Selecting layers to train\n",
            "fpn_c5p5               (Conv2D)\n",
            "fpn_c4p4               (Conv2D)\n",
            "fpn_c3p3               (Conv2D)\n",
            "fpn_c2p2               (Conv2D)\n",
            "fpn_p5                 (Conv2D)\n",
            "fpn_p2                 (Conv2D)\n",
            "fpn_p3                 (Conv2D)\n",
            "fpn_p4                 (Conv2D)\n",
            "rpn_model              (Functional)\n",
            "mrcnn_mask_conv1       (TimeDistributed)\n",
            "mrcnn_mask_bn1         (TimeDistributed)\n",
            "mrcnn_mask_conv2       (TimeDistributed)\n",
            "mrcnn_mask_bn2         (TimeDistributed)\n",
            "mrcnn_class_conv1      (TimeDistributed)\n",
            "mrcnn_class_bn1        (TimeDistributed)\n",
            "mrcnn_mask_conv3       (TimeDistributed)\n",
            "mrcnn_mask_bn3         (TimeDistributed)\n",
            "mrcnn_class_conv2      (TimeDistributed)\n",
            "mrcnn_class_bn2        (TimeDistributed)\n",
            "mrcnn_mask_conv4       (TimeDistributed)\n",
            "mrcnn_mask_bn4         (TimeDistributed)\n",
            "mrcnn_bbox_fc          (TimeDistributed)\n",
            "mrcnn_mask_deconv      (TimeDistributed)\n",
            "mrcnn_class_logits     (TimeDistributed)\n",
            "mrcnn_mask             (TimeDistributed)\n",
            "WARNING:absl:`lr` is deprecated, please use `learning_rate` instead, or use the legacy optimizer, e.g.,tf.keras.optimizers.legacy.SGD.\n",
            "2023-02-22 16:49:05.174646: W tensorflow/c/c_api.cc:291] Operation '{name:'bn4v_branch2b/beta/Assign' id:4664 op device:{requested: '', assigned: ''} def:{{{node bn4v_branch2b/beta/Assign}} = AssignVariableOp[_has_manual_control_dependencies=true, dtype=DT_FLOAT, validate_shape=false](bn4v_branch2b/beta, bn4v_branch2b/beta/Initializer/zeros)}}' was changed by setting attribute after it was run by a session. This mutation will have no effect, and will trigger an error in the future. Either don't modify nodes after running them or create a new session.\n",
            "2023-02-22 16:49:08.039315: W tensorflow/c/c_api.cc:291] Operation '{name:'range' id:9915 op device:{requested: '', assigned: ''} def:{{{node range}} = Range[Tidx=DT_INT32, _has_manual_control_dependencies=true](range/start, Rank, range/delta)}}' was changed by setting attribute after it was run by a session. This mutation will have no effect, and will trigger an error in the future. Either don't modify nodes after running them or create a new session.\n",
            "2023-02-22 16:49:08.940319: W tensorflow/c/c_api.cc:291] Operation '{name:'range_1' id:10617 op device:{requested: '', assigned: ''} def:{{{node range_1}} = Range[Tidx=DT_INT32, _has_manual_control_dependencies=true](range_1/start, Rank_1, range_1/delta)}}' was changed by setting attribute after it was run by a session. This mutation will have no effect, and will trigger an error in the future. Either don't modify nodes after running them or create a new session.\n",
            "2023-02-22 16:49:09.902811: W tensorflow/c/c_api.cc:291] Operation '{name:'range_2' id:10627 op device:{requested: '', assigned: ''} def:{{{node range_2}} = Range[Tidx=DT_INT32, _has_manual_control_dependencies=true](range_2/start, Rank_2, range_2/delta)}}' was changed by setting attribute after it was run by a session. This mutation will have no effect, and will trigger an error in the future. Either don't modify nodes after running them or create a new session.\n",
            "2023-02-22 16:49:10.895186: W tensorflow/c/c_api.cc:291] Operation '{name:'range_3' id:10637 op device:{requested: '', assigned: ''} def:{{{node range_3}} = Range[Tidx=DT_INT32, _has_manual_control_dependencies=true](range_3/start, Rank_3, range_3/delta)}}' was changed by setting attribute after it was run by a session. This mutation will have no effect, and will trigger an error in the future. Either don't modify nodes after running them or create a new session.\n",
            "2023-02-22 16:49:11.756507: W tensorflow/c/c_api.cc:291] Operation '{name:'range_4' id:10647 op device:{requested: '', assigned: ''} def:{{{node range_4}} = Range[Tidx=DT_INT32, _has_manual_control_dependencies=true](range_4/start, Rank_4, range_4/delta)}}' was changed by setting attribute after it was run by a session. This mutation will have no effect, and will trigger an error in the future. Either don't modify nodes after running them or create a new session.\n",
            "2023-02-22 16:49:12.536073: W tensorflow/c/c_api.cc:291] Operation '{name:'truediv_1' id:10669 op device:{requested: '', assigned: ''} def:{{{node truediv_1}} = RealDiv[T=DT_FLOAT, _has_manual_control_dependencies=true](mul_6, Cast_1)}}' was changed by setting attribute after it was run by a session. This mutation will have no effect, and will trigger an error in the future. Either don't modify nodes after running them or create a new session.\n",
            "2023-02-22 16:49:12.826094: W tensorflow/c/c_api.cc:291] Operation '{name:'truediv_2' id:10677 op device:{requested: '', assigned: ''} def:{{{node truediv_2}} = RealDiv[T=DT_FLOAT, _has_manual_control_dependencies=true](mul_7, Cast_2)}}' was changed by setting attribute after it was run by a session. This mutation will have no effect, and will trigger an error in the future. Either don't modify nodes after running them or create a new session.\n",
            "2023-02-22 16:49:13.128340: W tensorflow/c/c_api.cc:291] Operation '{name:'truediv_3' id:10685 op device:{requested: '', assigned: ''} def:{{{node truediv_3}} = RealDiv[T=DT_FLOAT, _has_manual_control_dependencies=true](mul_8, Cast_3)}}' was changed by setting attribute after it was run by a session. This mutation will have no effect, and will trigger an error in the future. Either don't modify nodes after running them or create a new session.\n",
            "2023-02-22 16:49:13.426683: W tensorflow/c/c_api.cc:291] Operation '{name:'truediv_4' id:10693 op device:{requested: '', assigned: ''} def:{{{node truediv_4}} = RealDiv[T=DT_FLOAT, _has_manual_control_dependencies=true](mul_9, Cast_4)}}' was changed by setting attribute after it was run by a session. This mutation will have no effect, and will trigger an error in the future. Either don't modify nodes after running them or create a new session.\n",
            "2023-02-22 16:49:13.724318: W tensorflow/c/c_api.cc:291] Operation '{name:'truediv_5' id:10701 op device:{requested: '', assigned: ''} def:{{{node truediv_5}} = RealDiv[T=DT_FLOAT, _has_manual_control_dependencies=true](mul_10, Cast_5)}}' was changed by setting attribute after it was run by a session. This mutation will have no effect, and will trigger an error in the future. Either don't modify nodes after running them or create a new session.\n",
            "2023-02-22 16:49:14.025686: W tensorflow/c/c_api.cc:291] Operation '{name:'truediv_6' id:10709 op device:{requested: '', assigned: ''} def:{{{node truediv_6}} = RealDiv[T=DT_FLOAT, _has_manual_control_dependencies=true](mul_11, Cast_6)}}' was changed by setting attribute after it was run by a session. This mutation will have no effect, and will trigger an error in the future. Either don't modify nodes after running them or create a new session.\n",
            "2023-02-22 16:49:14.330679: W tensorflow/c/c_api.cc:291] Operation '{name:'truediv_7' id:10717 op device:{requested: '', assigned: ''} def:{{{node truediv_7}} = RealDiv[T=DT_FLOAT, _has_manual_control_dependencies=true](mul_12, Cast_7)}}' was changed by setting attribute after it was run by a session. This mutation will have no effect, and will trigger an error in the future. Either don't modify nodes after running them or create a new session.\n",
            "2023-02-22 16:49:14.650645: W tensorflow/c/c_api.cc:291] Operation '{name:'truediv_8' id:10725 op device:{requested: '', assigned: ''} def:{{{node truediv_8}} = RealDiv[T=DT_FLOAT, _has_manual_control_dependencies=true](mul_13, Cast_8)}}' was changed by setting attribute after it was run by a session. This mutation will have no effect, and will trigger an error in the future. Either don't modify nodes after running them or create a new session.\n",
            "2023-02-22 16:49:14.971438: W tensorflow/c/c_api.cc:291] Operation '{name:'truediv_9' id:10733 op device:{requested: '', assigned: ''} def:{{{node truediv_9}} = RealDiv[T=DT_FLOAT, _has_manual_control_dependencies=true](mul_14, Cast_9)}}' was changed by setting attribute after it was run by a session. This mutation will have no effect, and will trigger an error in the future. Either don't modify nodes after running them or create a new session.\n",
            "2023-02-22 16:49:15.288320: W tensorflow/c/c_api.cc:291] Operation '{name:'truediv_10' id:10741 op device:{requested: '', assigned: ''} def:{{{node truediv_10}} = RealDiv[T=DT_FLOAT, _has_manual_control_dependencies=true](mul_15, Cast_10)}}' was changed by setting attribute after it was run by a session. This mutation will have no effect, and will trigger an error in the future. Either don't modify nodes after running them or create a new session.\n",
            "2023-02-22 16:49:15.601266: W tensorflow/c/c_api.cc:291] Operation '{name:'truediv_11' id:10749 op device:{requested: '', assigned: ''} def:{{{node truediv_11}} = RealDiv[T=DT_FLOAT, _has_manual_control_dependencies=true](mul_16, Cast_11)}}' was changed by setting attribute after it was run by a session. This mutation will have no effect, and will trigger an error in the future. Either don't modify nodes after running them or create a new session.\n",
            "2023-02-22 16:49:15.903802: W tensorflow/c/c_api.cc:291] Operation '{name:'truediv_12' id:10757 op device:{requested: '', assigned: ''} def:{{{node truediv_12}} = RealDiv[T=DT_FLOAT, _has_manual_control_dependencies=true](mul_17, Cast_12)}}' was changed by setting attribute after it was run by a session. This mutation will have no effect, and will trigger an error in the future. Either don't modify nodes after running them or create a new session.\n",
            "2023-02-22 16:49:16.214848: W tensorflow/c/c_api.cc:291] Operation '{name:'truediv_13' id:10765 op device:{requested: '', assigned: ''} def:{{{node truediv_13}} = RealDiv[T=DT_FLOAT, _has_manual_control_dependencies=true](mul_18, Cast_13)}}' was changed by setting attribute after it was run by a session. This mutation will have no effect, and will trigger an error in the future. Either don't modify nodes after running them or create a new session.\n",
            "2023-02-22 16:49:16.521089: W tensorflow/c/c_api.cc:291] Operation '{name:'truediv_14' id:10773 op device:{requested: '', assigned: ''} def:{{{node truediv_14}} = RealDiv[T=DT_FLOAT, _has_manual_control_dependencies=true](mul_19, Cast_14)}}' was changed by setting attribute after it was run by a session. This mutation will have no effect, and will trigger an error in the future. Either don't modify nodes after running them or create a new session.\n",
            "2023-02-22 16:49:16.828176: W tensorflow/c/c_api.cc:291] Operation '{name:'truediv_15' id:10781 op device:{requested: '', assigned: ''} def:{{{node truediv_15}} = RealDiv[T=DT_FLOAT, _has_manual_control_dependencies=true](mul_20, Cast_15)}}' was changed by setting attribute after it was run by a session. This mutation will have no effect, and will trigger an error in the future. Either don't modify nodes after running them or create a new session.\n",
            "2023-02-22 16:49:17.139316: W tensorflow/c/c_api.cc:291] Operation '{name:'truediv_16' id:10789 op device:{requested: '', assigned: ''} def:{{{node truediv_16}} = RealDiv[T=DT_FLOAT, _has_manual_control_dependencies=true](mul_21, Cast_16)}}' was changed by setting attribute after it was run by a session. This mutation will have no effect, and will trigger an error in the future. Either don't modify nodes after running them or create a new session.\n",
            "2023-02-22 16:49:17.452797: W tensorflow/c/c_api.cc:291] Operation '{name:'truediv_17' id:10797 op device:{requested: '', assigned: ''} def:{{{node truediv_17}} = RealDiv[T=DT_FLOAT, _has_manual_control_dependencies=true](mul_22, Cast_17)}}' was changed by setting attribute after it was run by a session. This mutation will have no effect, and will trigger an error in the future. Either don't modify nodes after running them or create a new session.\n",
            "2023-02-22 16:49:17.769263: W tensorflow/c/c_api.cc:291] Operation '{name:'truediv_18' id:10805 op device:{requested: '', assigned: ''} def:{{{node truediv_18}} = RealDiv[T=DT_FLOAT, _has_manual_control_dependencies=true](mul_23, Cast_18)}}' was changed by setting attribute after it was run by a session. This mutation will have no effect, and will trigger an error in the future. Either don't modify nodes after running them or create a new session.\n",
            "2023-02-22 16:49:18.090671: W tensorflow/c/c_api.cc:291] Operation '{name:'truediv_19' id:10813 op device:{requested: '', assigned: ''} def:{{{node truediv_19}} = RealDiv[T=DT_FLOAT, _has_manual_control_dependencies=true](mul_24, Cast_19)}}' was changed by setting attribute after it was run by a session. This mutation will have no effect, and will trigger an error in the future. Either don't modify nodes after running them or create a new session.\n",
            "2023-02-22 16:49:18.390866: W tensorflow/c/c_api.cc:291] Operation '{name:'truediv_20' id:10821 op device:{requested: '', assigned: ''} def:{{{node truediv_20}} = RealDiv[T=DT_FLOAT, _has_manual_control_dependencies=true](mul_25, Cast_20)}}' was changed by setting attribute after it was run by a session. This mutation will have no effect, and will trigger an error in the future. Either don't modify nodes after running them or create a new session.\n",
            "2023-02-22 16:49:18.692924: W tensorflow/c/c_api.cc:291] Operation '{name:'truediv_21' id:10829 op device:{requested: '', assigned: ''} def:{{{node truediv_21}} = RealDiv[T=DT_FLOAT, _has_manual_control_dependencies=true](mul_26, Cast_21)}}' was changed by setting attribute after it was run by a session. This mutation will have no effect, and will trigger an error in the future. Either don't modify nodes after running them or create a new session.\n",
            "2023-02-22 16:49:18.986445: W tensorflow/c/c_api.cc:291] Operation '{name:'truediv_22' id:10837 op device:{requested: '', assigned: ''} def:{{{node truediv_22}} = RealDiv[T=DT_FLOAT, _has_manual_control_dependencies=true](mul_27, Cast_22)}}' was changed by setting attribute after it was run by a session. This mutation will have no effect, and will trigger an error in the future. Either don't modify nodes after running them or create a new session.\n",
            "2023-02-22 16:49:19.312805: W tensorflow/c/c_api.cc:291] Operation '{name:'truediv_23' id:10845 op device:{requested: '', assigned: ''} def:{{{node truediv_23}} = RealDiv[T=DT_FLOAT, _has_manual_control_dependencies=true](mul_28, Cast_23)}}' was changed by setting attribute after it was run by a session. This mutation will have no effect, and will trigger an error in the future. Either don't modify nodes after running them or create a new session.\n",
            "2023-02-22 16:49:19.615821: W tensorflow/c/c_api.cc:291] Operation '{name:'truediv_24' id:10853 op device:{requested: '', assigned: ''} def:{{{node truediv_24}} = RealDiv[T=DT_FLOAT, _has_manual_control_dependencies=true](mul_29, Cast_24)}}' was changed by setting attribute after it was run by a session. This mutation will have no effect, and will trigger an error in the future. Either don't modify nodes after running them or create a new session.\n",
            "2023-02-22 16:49:19.918870: W tensorflow/c/c_api.cc:291] Operation '{name:'truediv_25' id:10861 op device:{requested: '', assigned: ''} def:{{{node truediv_25}} = RealDiv[T=DT_FLOAT, _has_manual_control_dependencies=true](mul_30, Cast_25)}}' was changed by setting attribute after it was run by a session. This mutation will have no effect, and will trigger an error in the future. Either don't modify nodes after running them or create a new session.\n",
            "2023-02-22 16:49:20.238178: W tensorflow/c/c_api.cc:291] Operation '{name:'truediv_26' id:10869 op device:{requested: '', assigned: ''} def:{{{node truediv_26}} = RealDiv[T=DT_FLOAT, _has_manual_control_dependencies=true](mul_31, Cast_26)}}' was changed by setting attribute after it was run by a session. This mutation will have no effect, and will trigger an error in the future. Either don't modify nodes after running them or create a new session.\n",
            "2023-02-22 16:49:20.547124: W tensorflow/c/c_api.cc:291] Operation '{name:'truediv_27' id:10877 op device:{requested: '', assigned: ''} def:{{{node truediv_27}} = RealDiv[T=DT_FLOAT, _has_manual_control_dependencies=true](mul_32, Cast_27)}}' was changed by setting attribute after it was run by a session. This mutation will have no effect, and will trigger an error in the future. Either don't modify nodes after running them or create a new session.\n",
            "2023-02-22 16:49:20.849662: W tensorflow/c/c_api.cc:291] Operation '{name:'truediv_28' id:10885 op device:{requested: '', assigned: ''} def:{{{node truediv_28}} = RealDiv[T=DT_FLOAT, _has_manual_control_dependencies=true](mul_33, Cast_28)}}' was changed by setting attribute after it was run by a session. This mutation will have no effect, and will trigger an error in the future. Either don't modify nodes after running them or create a new session.\n",
            "2023-02-22 16:49:21.154860: W tensorflow/c/c_api.cc:291] Operation '{name:'truediv_29' id:10893 op device:{requested: '', assigned: ''} def:{{{node truediv_29}} = RealDiv[T=DT_FLOAT, _has_manual_control_dependencies=true](mul_34, Cast_29)}}' was changed by setting attribute after it was run by a session. This mutation will have no effect, and will trigger an error in the future. Either don't modify nodes after running them or create a new session.\n",
            "2023-02-22 16:49:21.459591: W tensorflow/c/c_api.cc:291] Operation '{name:'truediv_30' id:10901 op device:{requested: '', assigned: ''} def:{{{node truediv_30}} = RealDiv[T=DT_FLOAT, _has_manual_control_dependencies=true](mul_35, Cast_30)}}' was changed by setting attribute after it was run by a session. This mutation will have no effect, and will trigger an error in the future. Either don't modify nodes after running them or create a new session.\n",
            "2023-02-22 16:49:21.911667: W tensorflow/c/c_api.cc:291] Operation '{name:'truediv_31' id:10909 op device:{requested: '', assigned: ''} def:{{{node truediv_31}} = RealDiv[T=DT_FLOAT, _has_manual_control_dependencies=true](mul_36, Cast_31)}}' was changed by setting attribute after it was run by a session. This mutation will have no effect, and will trigger an error in the future. Either don't modify nodes after running them or create a new session.\n",
            "2023-02-22 16:49:22.402536: W tensorflow/c/c_api.cc:291] Operation '{name:'truediv_32' id:10917 op device:{requested: '', assigned: ''} def:{{{node truediv_32}} = RealDiv[T=DT_FLOAT, _has_manual_control_dependencies=true](mul_37, Cast_32)}}' was changed by setting attribute after it was run by a session. This mutation will have no effect, and will trigger an error in the future. Either don't modify nodes after running them or create a new session.\n",
            "2023-02-22 16:49:22.870071: W tensorflow/c/c_api.cc:291] Operation '{name:'truediv_33' id:10925 op device:{requested: '', assigned: ''} def:{{{node truediv_33}} = RealDiv[T=DT_FLOAT, _has_manual_control_dependencies=true](mul_38, Cast_33)}}' was changed by setting attribute after it was run by a session. This mutation will have no effect, and will trigger an error in the future. Either don't modify nodes after running them or create a new session.\n",
            "2023-02-22 16:49:23.367712: W tensorflow/c/c_api.cc:291] Operation '{name:'truediv_34' id:10933 op device:{requested: '', assigned: ''} def:{{{node truediv_34}} = RealDiv[T=DT_FLOAT, _has_manual_control_dependencies=true](mul_39, Cast_34)}}' was changed by setting attribute after it was run by a session. This mutation will have no effect, and will trigger an error in the future. Either don't modify nodes after running them or create a new session.\n",
            "2023-02-22 16:49:23.845391: W tensorflow/c/c_api.cc:291] Operation '{name:'truediv_35' id:10941 op device:{requested: '', assigned: ''} def:{{{node truediv_35}} = RealDiv[T=DT_FLOAT, _has_manual_control_dependencies=true](mul_40, Cast_35)}}' was changed by setting attribute after it was run by a session. This mutation will have no effect, and will trigger an error in the future. Either don't modify nodes after running them or create a new session.\n",
            "2023-02-22 16:49:24.343610: W tensorflow/c/c_api.cc:291] Operation '{name:'truediv_36' id:10949 op device:{requested: '', assigned: ''} def:{{{node truediv_36}} = RealDiv[T=DT_FLOAT, _has_manual_control_dependencies=true](mul_41, Cast_36)}}' was changed by setting attribute after it was run by a session. This mutation will have no effect, and will trigger an error in the future. Either don't modify nodes after running them or create a new session.\n",
            "2023-02-22 16:49:24.822234: W tensorflow/c/c_api.cc:291] Operation '{name:'truediv_37' id:10957 op device:{requested: '', assigned: ''} def:{{{node truediv_37}} = RealDiv[T=DT_FLOAT, _has_manual_control_dependencies=true](mul_42, Cast_37)}}' was changed by setting attribute after it was run by a session. This mutation will have no effect, and will trigger an error in the future. Either don't modify nodes after running them or create a new session.\n",
            "2023-02-22 16:49:25.167365: W tensorflow/c/c_api.cc:291] Operation '{name:'truediv_38' id:10965 op device:{requested: '', assigned: ''} def:{{{node truediv_38}} = RealDiv[T=DT_FLOAT, _has_manual_control_dependencies=true](mul_43, Cast_38)}}' was changed by setting attribute after it was run by a session. This mutation will have no effect, and will trigger an error in the future. Either don't modify nodes after running them or create a new session.\n",
            "2023-02-22 16:49:25.494426: W tensorflow/c/c_api.cc:291] Operation '{name:'truediv_39' id:10973 op device:{requested: '', assigned: ''} def:{{{node truediv_39}} = RealDiv[T=DT_FLOAT, _has_manual_control_dependencies=true](mul_44, Cast_39)}}' was changed by setting attribute after it was run by a session. This mutation will have no effect, and will trigger an error in the future. Either don't modify nodes after running them or create a new session.\n",
            "2023-02-22 16:49:25.788605: W tensorflow/c/c_api.cc:291] Operation '{name:'truediv_40' id:10981 op device:{requested: '', assigned: ''} def:{{{node truediv_40}} = RealDiv[T=DT_FLOAT, _has_manual_control_dependencies=true](mul_45, Cast_40)}}' was changed by setting attribute after it was run by a session. This mutation will have no effect, and will trigger an error in the future. Either don't modify nodes after running them or create a new session.\n",
            "2023-02-22 16:49:26.096111: W tensorflow/c/c_api.cc:291] Operation '{name:'truediv_41' id:10989 op device:{requested: '', assigned: ''} def:{{{node truediv_41}} = RealDiv[T=DT_FLOAT, _has_manual_control_dependencies=true](mul_46, Cast_41)}}' was changed by setting attribute after it was run by a session. This mutation will have no effect, and will trigger an error in the future. Either don't modify nodes after running them or create a new session.\n",
            "2023-02-22 16:49:26.775096: W tensorflow/c/c_api.cc:291] Operation '{name:'range_5' id:11038 op device:{requested: '', assigned: ''} def:{{{node range_5}} = Range[Tidx=DT_INT32, _has_manual_control_dependencies=true](range_5/start, Rank_5, range_5/delta)}}' was changed by setting attribute after it was run by a session. This mutation will have no effect, and will trigger an error in the future. Either don't modify nodes after running them or create a new session.\n",
            "2023-02-22 16:49:27.449443: W tensorflow/c/c_api.cc:291] Operation '{name:'add_metric/count/Assign' id:11052 op device:{requested: '', assigned: ''} def:{{{node add_metric/count/Assign}} = AssignVariableOp[_has_manual_control_dependencies=true, dtype=DT_FLOAT, validate_shape=false](add_metric/count, add_metric/count/Initializer/zeros)}}' was changed by setting attribute after it was run by a session. This mutation will have no effect, and will trigger an error in the future. Either don't modify nodes after running them or create a new session.\n",
            "2023-02-22 16:49:27.840559: W tensorflow/c/c_api.cc:291] Operation '{name:'range_6' id:11073 op device:{requested: '', assigned: ''} def:{{{node range_6}} = Range[Tidx=DT_INT32, _has_manual_control_dependencies=true](range_6/start, Rank_6, range_6/delta)}}' was changed by setting attribute after it was run by a session. This mutation will have no effect, and will trigger an error in the future. Either don't modify nodes after running them or create a new session.\n",
            "2023-02-22 16:49:28.510397: W tensorflow/c/c_api.cc:291] Operation '{name:'add_metric_1/total/Assign' id:11085 op device:{requested: '', assigned: ''} def:{{{node add_metric_1/total/Assign}} = AssignVariableOp[_has_manual_control_dependencies=true, dtype=DT_FLOAT, validate_shape=false](add_metric_1/total, add_metric_1/total/Initializer/zeros)}}' was changed by setting attribute after it was run by a session. This mutation will have no effect, and will trigger an error in the future. Either don't modify nodes after running them or create a new session.\n",
            "2023-02-22 16:49:28.908132: W tensorflow/c/c_api.cc:291] Operation '{name:'range_7' id:11111 op device:{requested: '', assigned: ''} def:{{{node range_7}} = Range[Tidx=DT_INT32, _has_manual_control_dependencies=true](range_7/start, Rank_7, range_7/delta)}}' was changed by setting attribute after it was run by a session. This mutation will have no effect, and will trigger an error in the future. Either don't modify nodes after running them or create a new session.\n",
            "2023-02-22 16:49:29.572430: W tensorflow/c/c_api.cc:291] Operation '{name:'add_metric_2/total/Assign' id:11123 op device:{requested: '', assigned: ''} def:{{{node add_metric_2/total/Assign}} = AssignVariableOp[_has_manual_control_dependencies=true, dtype=DT_FLOAT, validate_shape=false](add_metric_2/total, add_metric_2/total/Initializer/zeros)}}' was changed by setting attribute after it was run by a session. This mutation will have no effect, and will trigger an error in the future. Either don't modify nodes after running them or create a new session.\n",
            "2023-02-22 16:49:29.960566: W tensorflow/c/c_api.cc:291] Operation '{name:'range_8' id:11149 op device:{requested: '', assigned: ''} def:{{{node range_8}} = Range[Tidx=DT_INT32, _has_manual_control_dependencies=true](range_8/start, Rank_8, range_8/delta)}}' was changed by setting attribute after it was run by a session. This mutation will have no effect, and will trigger an error in the future. Either don't modify nodes after running them or create a new session.\n",
            "2023-02-22 16:49:30.642150: W tensorflow/c/c_api.cc:291] Operation '{name:'add_metric_3/total/Assign' id:11161 op device:{requested: '', assigned: ''} def:{{{node add_metric_3/total/Assign}} = AssignVariableOp[_has_manual_control_dependencies=true, dtype=DT_FLOAT, validate_shape=false](add_metric_3/total, add_metric_3/total/Initializer/zeros)}}' was changed by setting attribute after it was run by a session. This mutation will have no effect, and will trigger an error in the future. Either don't modify nodes after running them or create a new session.\n",
            "2023-02-22 16:49:31.047681: W tensorflow/c/c_api.cc:291] Operation '{name:'range_9' id:11187 op device:{requested: '', assigned: ''} def:{{{node range_9}} = Range[Tidx=DT_INT32, _has_manual_control_dependencies=true](range_9/start, Rank_9, range_9/delta)}}' was changed by setting attribute after it was run by a session. This mutation will have no effect, and will trigger an error in the future. Either don't modify nodes after running them or create a new session.\n",
            "2023-02-22 16:49:33.044163: W tensorflow/c/c_api.cc:291] Operation '{name:'add_metric_4/total/Assign' id:11199 op device:{requested: '', assigned: ''} def:{{{node add_metric_4/total/Assign}} = AssignVariableOp[_has_manual_control_dependencies=true, dtype=DT_FLOAT, validate_shape=false](add_metric_4/total, add_metric_4/total/Initializer/zeros)}}' was changed by setting attribute after it was run by a session. This mutation will have no effect, and will trigger an error in the future. Either don't modify nodes after running them or create a new session.\n",
            "Epoch 1/10\n"
          ]
        }
      ],
      "source": [
        "%cd /content/drive/MyDrive/IA_Restauración\n",
        "#%cd /content\n",
        "#train over ArtInsight Dataset\n",
        "\n",
        "#first time train with COCO\n",
        "!python3 damage.py train --dataset=/content/drive/MyDrive/IA_Restauración/prueba_imagenes --weights=coco\n",
        "\n",
        "#then, train with our weights (over our dataset) --weights=daño\n",
        "#!python3 damage.py train --dataset=/content/drive/MyDrive/IA_Restauración/prueba_imagenes --weights=daño"
      ]
    }
  ],
  "metadata": {
    "accelerator": "GPU",
    "colab": {
      "provenance": []
    },
    "gpuClass": "standard",
    "kernelspec": {
      "display_name": "Python 3",
      "name": "python3"
    },
    "language_info": {
      "name": "python"
    }
  },
  "nbformat": 4,
  "nbformat_minor": 0
}
